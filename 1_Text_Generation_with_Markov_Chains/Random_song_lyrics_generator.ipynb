{
  "cells": [
    {
      "cell_type": "code",
      "execution_count": null,
      "metadata": {
        "colab": {
          "base_uri": "https://localhost:8080/"
        },
        "id": "ZJ04EJMYXbjw",
        "outputId": "763a879a-c9e0-41a8-e35c-327a0e34d8e9"
      },
      "outputs": [
        {
          "output_type": "stream",
          "name": "stdout",
          "text": [
            "Collecting markovify\n",
            "  Downloading markovify-0.9.4.tar.gz (27 kB)\n",
            "  Preparing metadata (setup.py) ... \u001b[?25l\u001b[?25hdone\n",
            "Collecting unidecode (from markovify)\n",
            "  Downloading Unidecode-1.3.7-py3-none-any.whl (235 kB)\n",
            "\u001b[2K     \u001b[90m━━━━━━━━━━━━━━━━━━━━━━━━━━━━━━━━━━━━━━━━\u001b[0m \u001b[32m235.5/235.5 kB\u001b[0m \u001b[31m6.1 MB/s\u001b[0m eta \u001b[36m0:00:00\u001b[0m\n",
            "\u001b[?25hBuilding wheels for collected packages: markovify\n",
            "  Building wheel for markovify (setup.py) ... \u001b[?25l\u001b[?25hdone\n",
            "  Created wheel for markovify: filename=markovify-0.9.4-py3-none-any.whl size=18607 sha256=966a1f086242f8f90387ba0a1594969c7e506ceaaa6477b638196dd425dcef22\n",
            "  Stored in directory: /root/.cache/pip/wheels/ca/8c/c5/41413e24c484f883a100c63ca7b3b0362b7c6f6eb6d7c9cc7f\n",
            "Successfully built markovify\n",
            "Installing collected packages: unidecode, markovify\n",
            "Successfully installed markovify-0.9.4 unidecode-1.3.7\n"
          ]
        }
      ],
      "source": [
        "!pip install markovify"
      ]
    },
    {
      "cell_type": "code",
      "execution_count": null,
      "metadata": {
        "colab": {
          "base_uri": "https://localhost:8080/"
        },
        "id": "0v44ZnegzEyj",
        "outputId": "f1f77fa6-c386-43af-938a-214d748fc057"
      },
      "outputs": [
        {
          "output_type": "stream",
          "name": "stdout",
          "text": [
            "Mounted at /content/drive\n"
          ]
        }
      ],
      "source": [
        "from google.colab import drive\n",
        "drive.mount('/content/drive')"
      ]
    },
    {
      "cell_type": "code",
      "execution_count": null,
      "metadata": {
        "id": "PDCeZthtXzsO"
      },
      "outputs": [],
      "source": [
        "import markovify\n",
        "import os"
      ]
    },
    {
      "cell_type": "markdown",
      "metadata": {
        "id": "OXrBTtlBLNZa"
      },
      "source": [
        "Link to Dataset : https://www.kaggle.com/datasets/makvel/indian-hindi-songs-lyrics-dataset"
      ]
    },
    {
      "cell_type": "code",
      "execution_count": null,
      "metadata": {
        "id": "MUsFlf01D7-E"
      },
      "outputs": [],
      "source": [
        "def read_text_files_from_folder(folder_path):\n",
        "    text = ''\n",
        "    for filename in os.listdir(folder_path):\n",
        "        if filename.endswith('.txt'):\n",
        "            with open(os.path.join(folder_path, filename), 'r', encoding='utf-8') as file:\n",
        "                text += file.read() + ' '\n",
        "    return text\n",
        "\n",
        "# Folder containing text files\n",
        "folder_path = '/content/drive/MyDrive/Songs_Dataset_new/New romantic'\n",
        "\n",
        "# Read text from the folder\n",
        "text = read_text_files_from_folder(folder_path)"
      ]
    },
    {
      "cell_type": "code",
      "execution_count": null,
      "metadata": {
        "colab": {
          "base_uri": "https://localhost:8080/"
        },
        "id": "E8_hapuILezs",
        "outputId": "44282ddd-2146-4504-e19e-b19c20bef7c5"
      },
      "outputs": [
        {
          "output_type": "stream",
          "name": "stdout",
          "text": [
            "तेरे नैना, तेरे नैना नैना\n",
            "और धड़कन बढ़ रही है ये दास्तां\n",
            "मैं कुछ भी नहीं\n",
            "है हाल तो दिल का अरमान बना है तू\n",
            "वसदी वसदी वसदी, दिल दी दिल की धड़कन में\n"
          ]
        }
      ],
      "source": [
        "# Create a Markov model\n",
        "text_model = markovify.NewlineText(text, state_size = 2)\n",
        "text_model1 = markovify.NewlineText(text, state_size = 2)\n",
        "final_model = markovify.combine([text_model, text_model1],[1.5,1])\n",
        "\n",
        "# Generate text\n",
        "for i in range(5):\n",
        "  generated_text = final_model.make_sentence()\n",
        "# Print the generated text\n",
        "  print(generated_text)"
      ]
    }
  ],
  "metadata": {
    "colab": {
      "provenance": []
    },
    "kernelspec": {
      "display_name": "Python 3",
      "name": "python3"
    },
    "language_info": {
      "name": "python"
    }
  },
  "nbformat": 4,
  "nbformat_minor": 0
}